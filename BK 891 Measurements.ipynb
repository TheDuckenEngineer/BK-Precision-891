{
 "cells": [
  {
   "cell_type": "code",
   "execution_count": null,
   "id": "e6858c17",
   "metadata": {},
   "outputs": [
    {
     "name": "stdout",
     "output_type": "stream",
     "text": [
      "Test completed ✅\n",
      "\n",
      "\n"
     ]
    }
   ],
   "source": [
    "from Functions import*\n",
    "import matplotlib.pyplot as plt\n",
    "\n",
    "# connect to the LCR meter\n",
    "ser = DeviceConnect('COM10')\n",
    "\n",
    "try:\n",
    "    params = input('Input gel,  plasticizer content, and test i.e. P8 PVC Impedance')\n",
    "    area = input('Input the gel area in mm i.e. 10.2')\n",
    "    thickness = input('Input the gel thickness in mm i.e. 1')\n",
    "\n",
    "    # ser - serial connection\n",
    "    # freq - frequency limits [lower, upper] (Hz)\n",
    "    # measurement - choose a measurement below. input the number\n",
    "    #   CSQ/0  | CSD/1  | CSR/2  | CPQ/3  | CPD/4  | CPR/5 |\n",
    "    #   CPG/6  | LSQ/7  | LSD/8  | LSR/9  | LPQ/10 | LPD/11|\n",
    "    #   LPR/12 | LPG/13 | ZTH/14 | YTH/15 | RX/16  | GB/17 |\n",
    "    # voltage - the voltage applied between electrodes either 0.5 or 1 (V)\n",
    "\n",
    "    Data = Experiment(ser, frequencies = [20, 10000], measurement = 14, voltage = 1)\n",
    "    DeviceDisconnect(ser)\n",
    "    DataExport(params, Data, f'{area}, {thickness}, {1} - Area, thickness, voltage')\n",
    "\n",
    "except: \n",
    "    print('Test Aborted')\n",
    "    DeviceDisconnect(ser)     \n"
   ]
  },
  {
   "cell_type": "code",
   "execution_count": null,
   "id": "727c4d53",
   "metadata": {},
   "outputs": [],
   "source": [
    "import os; import numpy as np\n",
    "\n",
    "files = [i for i in os.listdir('Data') if i.endswith('.csv')]\n",
    "\n",
    "for i in files:\n",
    "    data = np.loadtxt(i, delimiter = ',')\n"
   ]
  },
  {
   "cell_type": "code",
   "execution_count": null,
   "id": "1efe3466",
   "metadata": {},
   "outputs": [],
   "source": [
    "import os\n",
    "\n",
    "\n",
    "def ComplexResistivity(thickness, diameter, dataFrame):\n",
    "    area = np.pi*diameter**2/4 \n",
    "    angularFrequency = 2*np.pi*dataFrame['Frequency']\n",
    "\n",
    "    if 'R Avg.' in dataFrame.columns and 'C Avg.' in dataFrame.columns:\n",
    "        # calculate the denominator\n",
    "        denomiator = 1 + (angularFrequency**2)*(dataFrame[\"R Avg.\"]**2)*(dataFrame[\"C Avg.\"]**2)\n",
    "\n",
    "        # calulate the real part of the impedance\n",
    "        z_real = dataFrame[\"R Avg.\"] / denomiator \n",
    "        z_imag = angularFrequency*(dataFrame[\"R Avg.\"]**2)*dataFrame[\"C Avg.\"]/denomiator\n",
    "            \n",
    "        dataFrame['Real Resistivity'] = z_real * area / thickness  # Real impedance unit Ω·mm\n",
    "        dataFrame['Imag Resistivity'] = z_imag * area / thickness  # Imaginary impedance unit Ω·mm\n",
    "        \n",
    "        plt.figure(figsize = (6, 5))  # Set figure size\n",
    "        plt.plot(dataFrame['Real Resistivity'], dataFrame['Imag Resistivity'], 'o-')  # Plot as line + points\n",
    "        plt.xlabel(\"Z' (Ω·mm)\")   # X-axis label\n",
    "        plt.ylabel(\"Z'' (Ω·mm)\")  # Y-axis label\n",
    "        plt.title(\"Impedance Plot (Z' vs Z'')\")  # Title\n",
    "        plt.grid(True)  # Enable grid\n",
    "        plt.tight_layout()  # Adjust spacing\n",
    "\n",
    "        plt.show()  # Display plot\n",
    "ComplexResistivity(thickness, diameter, dataFrame)"
   ]
  },
  {
   "cell_type": "code",
   "execution_count": null,
   "id": "3bc9a0bb",
   "metadata": {},
   "outputs": [],
   "source": [
    "# define material parameters\n",
    "thickness = float(input(\"Enter sample thickness (mm): \"))   # Thickness input\n",
    "diameter = float(input(\"Enter sample diameter (mm): \"))     # Diameter input\n",
    "radius = diameter/2                                    # Radius calculation\n",
    "area = np.pi*radius**2                              # Calculate sample area (circular sample)\n",
    "\n",
    "\n",
    "        angularFrequency = 2 * np.pi * freq  # Angular frequency\n",
    "        results_dict[freq][\"angularFrequency (rad/s)\"] = angularFrequency\n",
    "        dataFrame[\"R Avg.\"] = results_dict[freq].get(\"dataFrame[\"R Avg.\"]_X\")  # Retrieve dataFrame[\"R Avg.\"]\n",
    "        dataFrame[\"C Avg.\"] = results_dict[freq].get(\"dataFrame[\"C Avg.\"]_X\")  # Retrieve dataFrame[\"C Avg.\"]\n",
    "        if dataFrame[\"R Avg.\"] is not None and dataFrame[\"C Avg.\"] is not None:\n",
    "            try:\n",
    "                \n",
    "            except:\n",
    "                pass  # Ignore error if calculation fails\n",
    "\n",
    "    # Save to CSV\n",
    "    with open(filename, mode='w', newline='') as file:\n",
    "        writer = csv.DictWriter(file, fieldnames=fieldnames + [\n",
    "            \"angularFrequency (rad/s)\", \"Z_real (Ω)\", \"Z_imag (Ω)\",\n",
    "            \"Z_real (Ω·mm)\", \"Z_imag (Ω·mm)\"\n",
    "        ], extrasaction='ignore')\n",
    "        writer.writeheader()  # Write header\n",
    "        for freq in frequencies:\n",
    "            writer.writerow(results_dict[freq])  # Write row by row\n",
    "\n",
    "    print(f\"\\n'{filename}' has been saved!\")\n",
    "    print(\"Measurement interrupted or completed, data saved.\")\n",
    "\n",
    "    # Plot and save graph (Z'_real vs Z''_imag)\n",
    "    z_real_vals = [results_dict[f].get(\"Z_real (Ω·mm)\") for f in frequencies if results_dict[f].get(\"Z_real (Ω·mm)\") is not None]\n",
    "    z_imag_vals = [results_dict[f].get(\"Z_imag (Ω·mm)\") for f in frequencies if results_dict[f].get(\"Z_imag (Ω·mm)\") is not None]\n",
    "\n",
    "    if z_real_vals and z_imag_vals:\n",
    "        plt.figure(figsize=(6, 5))  # Set figure size\n",
    "        plt.plot(z_real_vals, z_imag_vals, 'o-')  # Plot as line + points\n",
    "        plt.xlabel(\"Z' (Ω·mm)\")   # X-axis label\n",
    "        plt.ylabel(\"Z'' (Ω·mm)\")  # Y-axis label\n",
    "        plt.title(\"Impedance Plot (Z' vs Z'')\")  # Title\n",
    "        plt.grid(True)  # Enable grid\n",
    "        plt.tight_layout()  # Adjust spacing\n",
    "        plt.savefig(image_filename)  # Save as image\n",
    "        plt.show()  # Display plot"
   ]
  }
 ],
 "metadata": {
  "kernelspec": {
   "display_name": "Python 3",
   "language": "python",
   "name": "python3"
  },
  "language_info": {
   "codemirror_mode": {
    "name": "ipython",
    "version": 3
   },
   "file_extension": ".py",
   "mimetype": "text/x-python",
   "name": "python",
   "nbconvert_exporter": "python",
   "pygments_lexer": "ipython3",
   "version": "3.13.3"
  }
 },
 "nbformat": 4,
 "nbformat_minor": 5
}
